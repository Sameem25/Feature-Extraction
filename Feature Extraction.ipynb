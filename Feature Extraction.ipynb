{
 "cells": [
  {
   "cell_type": "code",
   "execution_count": 21,
   "metadata": {},
   "outputs": [],
   "source": [
    "### importing basic libraries\n",
    "import pandas as pd\n",
    "import numpy as np\n",
    "import matplotlib.pyplot as plt"
   ]
  },
  {
   "cell_type": "code",
   "execution_count": 22,
   "metadata": {},
   "outputs": [],
   "source": [
    "# initializing NLTK and stop words\n",
    "\n",
    "import nltk\n",
    "from nltk.corpus import stopwords\n",
    "from nltk.tag.stanford import StanfordNERTagger\n",
    "stop = stopwords.words('english')"
   ]
  },
  {
   "cell_type": "code",
   "execution_count": 3,
   "metadata": {},
   "outputs": [],
   "source": [
    "### importing NLTK features for NER\n",
    "from nltk import word_tokenize, pos_tag, ne_chunk"
   ]
  },
  {
   "cell_type": "code",
   "execution_count": 301,
   "metadata": {},
   "outputs": [],
   "source": [
    "### opening and reading the desired file\n",
    "file_name = '857737_2005-03-11_EMPLOYMENT AGREEMENT - WARREN CLAMEN.txt'\n",
    "\n",
    "\n",
    "doc = open(\"document-analytics-master/document-analytics-master/employment contracts/\"+file_name, \"r\", encoding=\"utf8\")\n",
    "doc = doc.read()"
   ]
  },
  {
   "cell_type": "code",
   "execution_count": 302,
   "metadata": {},
   "outputs": [
    {
     "name": "stdout",
     "output_type": "stream",
     "text": [
      "Exhibit 10.1 EMPLOYMENT AGREEMENT Agreement, dated as of February 14, 2005, by and between Candie's, Inc. (the \"Company\") and Warren Clamen (\"Employee\") (the \"Parties\"). WHEREAS, the Company wishes to hire the Employee, for the position of Executive Vice President, and the Employee has agreed to undertake and perform the obligations set forth in this Agreement, subject to the terms hereof. NOW, THEREFORE, in consideration of the promises, covenants and agreements set forth in this Agreement, the parties agree as follows: 1. Engagement of Employee; Duties. The Company hereby agrees to hire the Employee, on an exclusive basis, as Chief Financial Officer of the Company to perform the services mutually agreed to by the Parties and customary of a chief financial officer of a public company. Employee shall be an executive officer of the Company and shall report to the Chief Executive Officer of the Company. 2. Time. Employee shall devote substantially all of his professional time and best efforts to the business affairs of the Company. 3. Term. The Employee's engagement shall commence effective on March 9, 2005, (the \"Start Date\") and shall continue for two years (the \"Term\").unless terminated for cause for any reason by either Party upon 30 days written notice of the basis for the proposed termination and a reasonable chance to cure. Employee may terminate this Agreement in the event his title, reporting relationship or job responsibilities are materially or adversely affected. In the event the Company elects to terminate this Agreement for any reason other than that specified herein, Employee shall be entitled to receive his current salary through the remainder of the term, but no less than one times the executive's annualized compensation at the time of termination. 4. Compensation. As compensation to the Employee for his services hereunder, the Company shall pay to the Employee $225,000 for the first year of the Term and no less than $240,000 for the second year, payable in accordance with the Company's payroll practices and procedures in effect. The Company shall pay executive a car allowance of $1,500 per month for the term of this Agreement. The executive shall be eligible for a bonus as defined in paragraph 6. 5. Fringe Benefits. Employee shall receive the benefits given to other executive officers of the Company including, but not limited to, major medical, dental, life insurance, pension including any 401(K) or other profit sharing plan. Employee shall also be added as an insured under the Company's officers and directors insurance and all other polices which pertain to officers of the Company. The Company shall pay for all expenses related to COBRA until such time as the executive is fully covered under Company's Plan. 6. Bonus. The Employee shall be eligible to participate in the executive bonus program then in effect. He shall be eligible for a bonus of up to 100% of his salary to be superseded by the maximum amount available under the Company's executive bonus plan, if established. 7. Options. The Employee shall be granted options to purchase 200,000 shares of the Company's stock at the price of the stock on or about the Start Date, which shall vest as follows 100,000 on the Start Date and 100,000 on June 1, 2005. 8. Vacation. The Employee shall be entitled to four weeks of vacation per year of employment. The Employee shall use his vacation in the calendar year in which it is accrued. 9. Change of Control. In the event that there comes a time during the Term hereof that Neil Cole is not either (i) employed as an executive officer of the Company or; (ii) a member of the Company's Board of Directors, or (iii) a sale or merger of the Company with a non-affiliate, upon termination then the Employee shall be entitled to receive his current compensation through the remainder of the Term but no less than one times the executive's annualized compensation at the time of termination. 10. Confidentiality. The Employee shall not divulge to anyone, either during or at any time after the Term, any information constituting a trade secret or other confidential information acquired by it concerning the Company, any subsidiary or other affiliate of the Company, except in the performance of his duties hereunder, including but not limited to its licensees, revenues, business systems and processes (\"Confidential Information\"). The Employee acknowledges that any Confidential Information is of great value to the Company, and upon the termination of its engagement the Employee shall redeliver to the Company all Confidential Information and other data in his possession. 12. Entire Agreement. This Agreement represents and expresses the entire understanding and agreement between the parties with respect to the subject matter hereof and may not be modified or terminated except by an agreement in writing signed by both of the parties hereto. 13. Governing Law; Submissions to Jurisdiction. This Agreement shall be deemed to be a contract made under the laws of the State of New York and for all purposes shall be construed in accordance with those laws. The Company and Employee unconditionally consent to submit to the exclusive jurisdiction of the New York State Supreme Court, County of New York or the United States District Court for Southern District of New York for any actions, suits or proceedings arising out of or relating to this letter and the transactions contemplated hereby (and agree not to commence any action, suit or proceeding relating thereto except in such courts), and further agree that service of any process, summons, notice or document by registered mail to the address set forth above shall be effective service of process for any action, suit or proceeding brought against the Company or the Employee, as the case may be, in any such court. <PAGE> IN WITNESS WHEREOF, the parties hereto have set their hands as of the date first written above. CANDIE'S,INC. By: /s/Neil Cole Name: Neil Cole Title: President and CEO /s/Warren Clamen Warren Clamen, Employee\n"
     ]
    }
   ],
   "source": [
    "### removing new line characters and extra spaces\n",
    "\n",
    "doc = doc.replace('\\n', ' ').replace('\\r', '')\n",
    "doc = ' '.join(doc.split())\n",
    "print(doc)"
   ]
  },
  {
   "cell_type": "code",
   "execution_count": 304,
   "metadata": {},
   "outputs": [
    {
     "name": "stdout",
     "output_type": "stream",
     "text": [
      "[('EMPLOYMENT', 'ORGANIZATION'), ('Candie', 'GPE'), ('Inc.', 'GPE'), ('Warren Clamen', 'PERSON'), ('Company', 'ORGANIZATION'), ('Employee', 'ORGANIZATION'), ('Executive', 'ORGANIZATION'), ('Employee', 'ORGANIZATION'), ('THEREFORE', 'ORGANIZATION'), ('Employee', 'GPE'), ('Company', 'ORGANIZATION'), ('Employee', 'ORGANIZATION'), ('Company', 'ORGANIZATION'), ('Parties', 'ORGANIZATION'), ('Employee', 'PERSON'), ('Company', 'ORGANIZATION'), ('Company', 'ORGANIZATION'), ('Employee', 'PERSON'), ('Company', 'ORGANIZATION'), ('Term', 'PERSON'), ('Employee', 'ORGANIZATION'), ('Start Date', 'PERSON'), ('Employee', 'PERSON'), ('Company', 'ORGANIZATION'), ('Employee', 'PERSON'), ('Employee', 'ORGANIZATION'), ('Company', 'ORGANIZATION'), ('Term', 'ORGANIZATION'), ('Company', 'ORGANIZATION'), ('Company', 'ORGANIZATION'), ('Fringe Benefits', 'PERSON'), ('Employee', 'PERSON'), ('Company', 'ORGANIZATION'), ('Employee', 'PERSON'), ('Company', 'ORGANIZATION'), ('Company', 'ORGANIZATION'), ('Company', 'ORGANIZATION'), ('COBRA', 'ORGANIZATION'), ('Company', 'ORGANIZATION'), ('Bonus', 'PERSON'), ('Employee', 'ORGANIZATION'), ('Company', 'ORGANIZATION'), ('Employee', 'ORGANIZATION'), ('Company', 'ORGANIZATION'), ('Start Date', 'FACILITY'), ('Start Date', 'FACILITY'), ('Employee', 'ORGANIZATION'), ('Employee', 'ORGANIZATION'), ('Control', 'ORGANIZATION'), ('Term', 'ORGANIZATION'), ('Neil Cole', 'PERSON'), ('Company', 'ORGANIZATION'), ('Company', 'ORGANIZATION'), ('Board', 'ORGANIZATION'), ('Directors', 'GPE'), ('Company', 'ORGANIZATION'), ('Employee', 'ORGANIZATION'), ('Employee', 'ORGANIZATION'), ('Term', 'ORGANIZATION'), ('Company', 'ORGANIZATION'), ('Company', 'ORGANIZATION'), ('Employee', 'ORGANIZATION'), ('Company', 'ORGANIZATION'), ('Employee', 'ORGANIZATION'), ('Company', 'ORGANIZATION'), ('Entire Agreement', 'PERSON'), ('Law', 'PERSON'), ('Jurisdiction', 'GPE'), ('New York', 'GPE'), ('Company', 'ORGANIZATION'), ('Employee', 'PERSON'), ('New York', 'GPE'), ('Supreme Court', 'ORGANIZATION'), ('County', 'ORGANIZATION'), ('New York', 'GPE'), ('United States', 'GPE'), ('District Court', 'ORGANIZATION'), ('Southern District', 'LOCATION'), ('New York', 'GPE'), ('Company', 'ORGANIZATION'), ('Employee', 'ORGANIZATION'), ('CANDIE', 'ORGANIZATION'), ('INC', 'ORGANIZATION'), ('Neil Cole Title', 'PERSON'), ('CEO', 'ORGANIZATION'), ('Employee', 'PERSON')]\n"
     ]
    }
   ],
   "source": [
    "tokenized_doc = nltk.word_tokenize(doc)\n",
    " \n",
    "# tag sentences and use nltk's Named Entity Chunker\n",
    "tagged_sentences = nltk.pos_tag(tokenized_doc)\n",
    "ne_chunked_sents = nltk.ne_chunk(tagged_sentences)\n",
    " \n",
    "# extract all named entities\n",
    "named_entities = []\n",
    "for tagged_tree in ne_chunked_sents:\n",
    "    if hasattr(tagged_tree, 'label'):\n",
    "        entity_name = ' '.join(c[0] for c in tagged_tree.leaves()) #\n",
    "        entity_type = tagged_tree.label() # get NE category\n",
    "        named_entities.append((entity_name, entity_type))\n",
    "print(named_entities)"
   ]
  },
  {
   "cell_type": "code",
   "execution_count": 275,
   "metadata": {},
   "outputs": [
    {
     "name": "stdout",
     "output_type": "stream",
     "text": [
      "['Warren Clamen', 'Employee', 'Term', 'Start Date', 'Fringe Benefits', 'Bonus', 'Neil Cole', 'Entire Agreement', 'Law', 'Neil Cole Title']\n"
     ]
    }
   ],
   "source": [
    "### recognizing PERSONs from NLTK entities\n",
    "\n",
    "per_nltk = []\n",
    "for i in named_entities:\n",
    "    if i[1]=='PERSON':\n",
    "        if i[0] not in per_nltk:\n",
    "            per_nltk.append(i[0])\n",
    "\n",
    "print(per_nltk)"
   ]
  },
  {
   "cell_type": "code",
   "execution_count": 288,
   "metadata": {},
   "outputs": [
    {
     "name": "stdout",
     "output_type": "stream",
     "text": [
      "['warren clamen', 'term', 'start date', 'fringe benefits', 'bonus', 'neil cole', 'entire agreement', 'law', 'neil cole title']\n"
     ]
    }
   ],
   "source": [
    "### lowering them\n",
    "per_nltk = [x.lower() for x in per_nltk]\n",
    "for i in per_nltk:\n",
    "    if i.startswith('emp') or i.startswith('agr'):\n",
    "        per_nltk.remove(i)\n",
    "\n",
    "print(per_nltk)"
   ]
  },
  {
   "cell_type": "code",
   "execution_count": 274,
   "metadata": {},
   "outputs": [
    {
     "name": "stdout",
     "output_type": "stream",
     "text": [
      "['company', 'executive', 'therefore', 'parties', 'term', 'cobra', 'control', 'board', 'supreme court', 'county', 'district court', 'candie', 'inc', 'ceo']\n"
     ]
    }
   ],
   "source": [
    "### recognizing ORGANIZATIONS from NLTK entities\n",
    "org_nltk = []\n",
    "for i in named_entities:\n",
    "    if i[1]=='ORGANIZATION':\n",
    "        if i[0] not in org_nltk:\n",
    "            org_nltk.append(i[0])\n",
    "\n",
    "org_nltk = [x.lower() for x in org_nltk]\n",
    "for i in org_nltk:\n",
    "    if i.startswith('emp') or i.startswith('agr'):  ### we'll ignore words with emp or agr as they're not useful.\n",
    "        org_nltk.remove(i)\n",
    "\n",
    "print(org_nltk)"
   ]
  },
  {
   "cell_type": "markdown",
   "metadata": {},
   "source": [
    "## NOW USING SPACY FOR NER"
   ]
  },
  {
   "cell_type": "code",
   "execution_count": 245,
   "metadata": {},
   "outputs": [],
   "source": [
    "import spacy\n",
    "from spacy import displacy\n",
    "from collections import Counter\n",
    "import en_core_web_sm\n",
    "nlp = en_core_web_sm.load()\n",
    "import re"
   ]
  },
  {
   "cell_type": "code",
   "execution_count": 277,
   "metadata": {},
   "outputs": [],
   "source": [
    "doc = open(\"document-analytics-master/document-analytics-master/employment contracts/\"+file_name, \"r\", encoding=\"utf8\")\n",
    "\n",
    "doc = doc.read()"
   ]
  },
  {
   "cell_type": "code",
   "execution_count": 278,
   "metadata": {},
   "outputs": [
    {
     "name": "stdout",
     "output_type": "stream",
     "text": [
      "Exhibit 10.1 EMPLOYMENT AGREEMENT Agreement, dated as of February 14, 2005, by and between Candie's, Inc. (the \"Company\") and Warren Clamen (\"Employee\") (the \"Parties\"). WHEREAS, the Company wishes to hire the Employee, for the position of Executive Vice President, and the Employee has agreed to undertake and perform the obligations set forth in this Agreement, subject to the terms hereof. NOW, THEREFORE, in consideration of the promises, covenants and agreements set forth in this Agreement, the parties agree as follows: 1. Engagement of Employee; Duties. The Company hereby agrees to hire the Employee, on an exclusive basis, as Chief Financial Officer of the Company to perform the services mutually agreed to by the Parties and customary of a chief financial officer of a public company. Employee shall be an executive officer of the Company and shall report to the Chief Executive Officer of the Company. 2. Time. Employee shall devote substantially all of his professional time and best efforts to the business affairs of the Company. 3. Term. The Employee's engagement shall commence effective on March 9, 2005, (the \"Start Date\") and shall continue for two years (the \"Term\").unless terminated for cause for any reason by either Party upon 30 days written notice of the basis for the proposed termination and a reasonable chance to cure. Employee may terminate this Agreement in the event his title, reporting relationship or job responsibilities are materially or adversely affected. In the event the Company elects to terminate this Agreement for any reason other than that specified herein, Employee shall be entitled to receive his current salary through the remainder of the term, but no less than one times the executive's annualized compensation at the time of termination. 4. Compensation. As compensation to the Employee for his services hereunder, the Company shall pay to the Employee $225,000 for the first year of the Term and no less than $240,000 for the second year, payable in accordance with the Company's payroll practices and procedures in effect. The Company shall pay executive a car allowance of $1,500 per month for the term of this Agreement. The executive shall be eligible for a bonus as defined in paragraph 6. 5. Fringe Benefits. Employee shall receive the benefits given to other executive officers of the Company including, but not limited to, major medical, dental, life insurance, pension including any 401(K) or other profit sharing plan. Employee shall also be added as an insured under the Company's officers and directors insurance and all other polices which pertain to officers of the Company. The Company shall pay for all expenses related to COBRA until such time as the executive is fully covered under Company's Plan. 6. Bonus. The Employee shall be eligible to participate in the executive bonus program then in effect. He shall be eligible for a bonus of up to 100% of his salary to be superseded by the maximum amount available under the Company's executive bonus plan, if established. 7. Options. The Employee shall be granted options to purchase 200,000 shares of the Company's stock at the price of the stock on or about the Start Date, which shall vest as follows 100,000 on the Start Date and 100,000 on June 1, 2005. 8. Vacation. The Employee shall be entitled to four weeks of vacation per year of employment. The Employee shall use his vacation in the calendar year in which it is accrued. 9. Change of Control. In the event that there comes a time during the Term hereof that Neil Cole is not either (i) employed as an executive officer of the Company or; (ii) a member of the Company's Board of Directors, or (iii) a sale or merger of the Company with a non-affiliate, upon termination then the Employee shall be entitled to receive his current compensation through the remainder of the Term but no less than one times the executive's annualized compensation at the time of termination. 10. Confidentiality. The Employee shall not divulge to anyone, either during or at any time after the Term, any information constituting a trade secret or other confidential information acquired by it concerning the Company, any subsidiary or other affiliate of the Company, except in the performance of his duties hereunder, including but not limited to its licensees, revenues, business systems and processes (\"Confidential Information\"). The Employee acknowledges that any Confidential Information is of great value to the Company, and upon the termination of its engagement the Employee shall redeliver to the Company all Confidential Information and other data in his possession. 12. Entire Agreement. This Agreement represents and expresses the entire understanding and agreement between the parties with respect to the subject matter hereof and may not be modified or terminated except by an agreement in writing signed by both of the parties hereto. 13. Governing Law; Submissions to Jurisdiction. This Agreement shall be deemed to be a contract made under the laws of the State of New York and for all purposes shall be construed in accordance with those laws. The Company and Employee unconditionally consent to submit to the exclusive jurisdiction of the New York State Supreme Court, County of New York or the United States District Court for Southern District of New York for any actions, suits or proceedings arising out of or relating to this letter and the transactions contemplated hereby (and agree not to commence any action, suit or proceeding relating thereto except in such courts), and further agree that service of any process, summons, notice or document by registered mail to the address set forth above shall be effective service of process for any action, suit or proceeding brought against the Company or the Employee, as the case may be, in any such court. <PAGE> IN WITNESS WHEREOF, the parties hereto have set their hands as of the date first written above. CANDIE'S,INC. By: /s/Neil Cole Name: Neil Cole Title: President and CEO /s/Warren Clamen Warren Clamen, Employee\n"
     ]
    }
   ],
   "source": [
    "doc = doc.replace('\\n', ' ').replace('\\r', '')\n",
    "doc = ' '.join(doc.split())\n",
    "print(doc)"
   ]
  },
  {
   "cell_type": "code",
   "execution_count": 308,
   "metadata": {},
   "outputs": [
    {
     "data": {
      "text/html": [
       "<div class=\"entities\" style=\"line-height: 2.5\">Exhibit 10.1 \n",
       "<mark class=\"entity\" style=\"background: #aa9cfc; padding: 0.45em 0.6em; margin: 0 0.25em; line-height: 1; border-radius: 0.35em; box-decoration-break: clone; -webkit-box-decoration-break: clone\">\n",
       "    EMPLOYMENT AGREEMENT Agreement\n",
       "    <span style=\"font-size: 0.8em; font-weight: bold; line-height: 1; border-radius: 0.35em; text-transform: uppercase; vertical-align: middle; margin-left: 0.5rem\">PERSON</span>\n",
       "</mark>\n",
       ", dated as of \n",
       "<mark class=\"entity\" style=\"background: #bfe1d9; padding: 0.45em 0.6em; margin: 0 0.25em; line-height: 1; border-radius: 0.35em; box-decoration-break: clone; -webkit-box-decoration-break: clone\">\n",
       "    February 14, 2005\n",
       "    <span style=\"font-size: 0.8em; font-weight: bold; line-height: 1; border-radius: 0.35em; text-transform: uppercase; vertical-align: middle; margin-left: 0.5rem\">DATE</span>\n",
       "</mark>\n",
       ", by and between \n",
       "<mark class=\"entity\" style=\"background: #aa9cfc; padding: 0.45em 0.6em; margin: 0 0.25em; line-height: 1; border-radius: 0.35em; box-decoration-break: clone; -webkit-box-decoration-break: clone\">\n",
       "    Candie\n",
       "    <span style=\"font-size: 0.8em; font-weight: bold; line-height: 1; border-radius: 0.35em; text-transform: uppercase; vertical-align: middle; margin-left: 0.5rem\">PERSON</span>\n",
       "</mark>\n",
       "'s, \n",
       "<mark class=\"entity\" style=\"background: #feca74; padding: 0.45em 0.6em; margin: 0 0.25em; line-height: 1; border-radius: 0.35em; box-decoration-break: clone; -webkit-box-decoration-break: clone\">\n",
       "    Inc.\n",
       "    <span style=\"font-size: 0.8em; font-weight: bold; line-height: 1; border-radius: 0.35em; text-transform: uppercase; vertical-align: middle; margin-left: 0.5rem\">GPE</span>\n",
       "</mark>\n",
       " (\n",
       "<mark class=\"entity\" style=\"background: #7aecec; padding: 0.45em 0.6em; margin: 0 0.25em; line-height: 1; border-radius: 0.35em; box-decoration-break: clone; -webkit-box-decoration-break: clone\">\n",
       "    the \"Company\"\n",
       "    <span style=\"font-size: 0.8em; font-weight: bold; line-height: 1; border-radius: 0.35em; text-transform: uppercase; vertical-align: middle; margin-left: 0.5rem\">ORG</span>\n",
       "</mark>\n",
       ") and \n",
       "<mark class=\"entity\" style=\"background: #aa9cfc; padding: 0.45em 0.6em; margin: 0 0.25em; line-height: 1; border-radius: 0.35em; box-decoration-break: clone; -webkit-box-decoration-break: clone\">\n",
       "    Warren Clamen\n",
       "    <span style=\"font-size: 0.8em; font-weight: bold; line-height: 1; border-radius: 0.35em; text-transform: uppercase; vertical-align: middle; margin-left: 0.5rem\">PERSON</span>\n",
       "</mark>\n",
       " (\"Employee\") (the \"Parties\"). WHEREAS, the \n",
       "<mark class=\"entity\" style=\"background: #7aecec; padding: 0.45em 0.6em; margin: 0 0.25em; line-height: 1; border-radius: 0.35em; box-decoration-break: clone; -webkit-box-decoration-break: clone\">\n",
       "    Company\n",
       "    <span style=\"font-size: 0.8em; font-weight: bold; line-height: 1; border-radius: 0.35em; text-transform: uppercase; vertical-align: middle; margin-left: 0.5rem\">ORG</span>\n",
       "</mark>\n",
       " wishes to hire the Employee, for the position of Executive Vice President, and the \n",
       "<mark class=\"entity\" style=\"background: #7aecec; padding: 0.45em 0.6em; margin: 0 0.25em; line-height: 1; border-radius: 0.35em; box-decoration-break: clone; -webkit-box-decoration-break: clone\">\n",
       "    Employee\n",
       "    <span style=\"font-size: 0.8em; font-weight: bold; line-height: 1; border-radius: 0.35em; text-transform: uppercase; vertical-align: middle; margin-left: 0.5rem\">ORG</span>\n",
       "</mark>\n",
       " has agreed to undertake and perform the obligations set forth in this Agreement, subject to the terms hereof. NOW, THEREFORE, in consideration of the promises, covenants and agreements set forth in this Agreement, the parties agree as follows: \n",
       "<mark class=\"entity\" style=\"background: #e4e7d2; padding: 0.45em 0.6em; margin: 0 0.25em; line-height: 1; border-radius: 0.35em; box-decoration-break: clone; -webkit-box-decoration-break: clone\">\n",
       "    1\n",
       "    <span style=\"font-size: 0.8em; font-weight: bold; line-height: 1; border-radius: 0.35em; text-transform: uppercase; vertical-align: middle; margin-left: 0.5rem\">CARDINAL</span>\n",
       "</mark>\n",
       ". Engagement of Employee; \n",
       "<mark class=\"entity\" style=\"background: #bfe1d9; padding: 0.45em 0.6em; margin: 0 0.25em; line-height: 1; border-radius: 0.35em; box-decoration-break: clone; -webkit-box-decoration-break: clone\">\n",
       "    Duties\n",
       "    <span style=\"font-size: 0.8em; font-weight: bold; line-height: 1; border-radius: 0.35em; text-transform: uppercase; vertical-align: middle; margin-left: 0.5rem\">DATE</span>\n",
       "</mark>\n",
       ". The Company hereby agrees to hire the \n",
       "<mark class=\"entity\" style=\"background: #7aecec; padding: 0.45em 0.6em; margin: 0 0.25em; line-height: 1; border-radius: 0.35em; box-decoration-break: clone; -webkit-box-decoration-break: clone\">\n",
       "    Employee\n",
       "    <span style=\"font-size: 0.8em; font-weight: bold; line-height: 1; border-radius: 0.35em; text-transform: uppercase; vertical-align: middle; margin-left: 0.5rem\">ORG</span>\n",
       "</mark>\n",
       ", on an exclusive basis, as Chief Financial Officer of the \n",
       "<mark class=\"entity\" style=\"background: #7aecec; padding: 0.45em 0.6em; margin: 0 0.25em; line-height: 1; border-radius: 0.35em; box-decoration-break: clone; -webkit-box-decoration-break: clone\">\n",
       "    Company\n",
       "    <span style=\"font-size: 0.8em; font-weight: bold; line-height: 1; border-radius: 0.35em; text-transform: uppercase; vertical-align: middle; margin-left: 0.5rem\">ORG</span>\n",
       "</mark>\n",
       " to perform the services mutually agreed to by the Parties and customary of a chief financial officer of a public company. Employee shall be an executive officer of the \n",
       "<mark class=\"entity\" style=\"background: #7aecec; padding: 0.45em 0.6em; margin: 0 0.25em; line-height: 1; border-radius: 0.35em; box-decoration-break: clone; -webkit-box-decoration-break: clone\">\n",
       "    Company\n",
       "    <span style=\"font-size: 0.8em; font-weight: bold; line-height: 1; border-radius: 0.35em; text-transform: uppercase; vertical-align: middle; margin-left: 0.5rem\">ORG</span>\n",
       "</mark>\n",
       " and shall report to the Chief Executive Officer of the Company. \n",
       "<mark class=\"entity\" style=\"background: #e4e7d2; padding: 0.45em 0.6em; margin: 0 0.25em; line-height: 1; border-radius: 0.35em; box-decoration-break: clone; -webkit-box-decoration-break: clone\">\n",
       "    2\n",
       "    <span style=\"font-size: 0.8em; font-weight: bold; line-height: 1; border-radius: 0.35em; text-transform: uppercase; vertical-align: middle; margin-left: 0.5rem\">CARDINAL</span>\n",
       "</mark>\n",
       ". Time. Employee shall devote substantially all of his professional time and best efforts to the business affairs of the \n",
       "<mark class=\"entity\" style=\"background: #7aecec; padding: 0.45em 0.6em; margin: 0 0.25em; line-height: 1; border-radius: 0.35em; box-decoration-break: clone; -webkit-box-decoration-break: clone\">\n",
       "    Company\n",
       "    <span style=\"font-size: 0.8em; font-weight: bold; line-height: 1; border-radius: 0.35em; text-transform: uppercase; vertical-align: middle; margin-left: 0.5rem\">ORG</span>\n",
       "</mark>\n",
       ". \n",
       "<mark class=\"entity\" style=\"background: #e4e7d2; padding: 0.45em 0.6em; margin: 0 0.25em; line-height: 1; border-radius: 0.35em; box-decoration-break: clone; -webkit-box-decoration-break: clone\">\n",
       "    3\n",
       "    <span style=\"font-size: 0.8em; font-weight: bold; line-height: 1; border-radius: 0.35em; text-transform: uppercase; vertical-align: middle; margin-left: 0.5rem\">CARDINAL</span>\n",
       "</mark>\n",
       ". Term. The \n",
       "<mark class=\"entity\" style=\"background: #7aecec; padding: 0.45em 0.6em; margin: 0 0.25em; line-height: 1; border-radius: 0.35em; box-decoration-break: clone; -webkit-box-decoration-break: clone\">\n",
       "    Employee\n",
       "    <span style=\"font-size: 0.8em; font-weight: bold; line-height: 1; border-radius: 0.35em; text-transform: uppercase; vertical-align: middle; margin-left: 0.5rem\">ORG</span>\n",
       "</mark>\n",
       "'s engagement shall commence effective on \n",
       "<mark class=\"entity\" style=\"background: #bfe1d9; padding: 0.45em 0.6em; margin: 0 0.25em; line-height: 1; border-radius: 0.35em; box-decoration-break: clone; -webkit-box-decoration-break: clone\">\n",
       "    March 9, 2005\n",
       "    <span style=\"font-size: 0.8em; font-weight: bold; line-height: 1; border-radius: 0.35em; text-transform: uppercase; vertical-align: middle; margin-left: 0.5rem\">DATE</span>\n",
       "</mark>\n",
       ", (\n",
       "<mark class=\"entity\" style=\"background: #f0d0ff; padding: 0.45em 0.6em; margin: 0 0.25em; line-height: 1; border-radius: 0.35em; box-decoration-break: clone; -webkit-box-decoration-break: clone\">\n",
       "    the \"Start Date\"\n",
       "    <span style=\"font-size: 0.8em; font-weight: bold; line-height: 1; border-radius: 0.35em; text-transform: uppercase; vertical-align: middle; margin-left: 0.5rem\">WORK_OF_ART</span>\n",
       "</mark>\n",
       ") and shall continue for \n",
       "<mark class=\"entity\" style=\"background: #bfe1d9; padding: 0.45em 0.6em; margin: 0 0.25em; line-height: 1; border-radius: 0.35em; box-decoration-break: clone; -webkit-box-decoration-break: clone\">\n",
       "    two years\n",
       "    <span style=\"font-size: 0.8em; font-weight: bold; line-height: 1; border-radius: 0.35em; text-transform: uppercase; vertical-align: middle; margin-left: 0.5rem\">DATE</span>\n",
       "</mark>\n",
       " (the \"Term\").unless terminated for cause for any reason by either \n",
       "<mark class=\"entity\" style=\"background: #7aecec; padding: 0.45em 0.6em; margin: 0 0.25em; line-height: 1; border-radius: 0.35em; box-decoration-break: clone; -webkit-box-decoration-break: clone\">\n",
       "    Party\n",
       "    <span style=\"font-size: 0.8em; font-weight: bold; line-height: 1; border-radius: 0.35em; text-transform: uppercase; vertical-align: middle; margin-left: 0.5rem\">ORG</span>\n",
       "</mark>\n",
       " upon \n",
       "<mark class=\"entity\" style=\"background: #bfe1d9; padding: 0.45em 0.6em; margin: 0 0.25em; line-height: 1; border-radius: 0.35em; box-decoration-break: clone; -webkit-box-decoration-break: clone\">\n",
       "    30 days\n",
       "    <span style=\"font-size: 0.8em; font-weight: bold; line-height: 1; border-radius: 0.35em; text-transform: uppercase; vertical-align: middle; margin-left: 0.5rem\">DATE</span>\n",
       "</mark>\n",
       " written notice of the basis for the proposed termination and a reasonable chance to cure. Employee may terminate this Agreement in the event his title, reporting relationship or job responsibilities are materially or adversely affected. In the event the Company elects to terminate this Agreement for any reason other than that specified herein, Employee shall be entitled to receive his current salary through the remainder of the term, but no less than \n",
       "<mark class=\"entity\" style=\"background: #e4e7d2; padding: 0.45em 0.6em; margin: 0 0.25em; line-height: 1; border-radius: 0.35em; box-decoration-break: clone; -webkit-box-decoration-break: clone\">\n",
       "    one\n",
       "    <span style=\"font-size: 0.8em; font-weight: bold; line-height: 1; border-radius: 0.35em; text-transform: uppercase; vertical-align: middle; margin-left: 0.5rem\">CARDINAL</span>\n",
       "</mark>\n",
       " times the executive's annualized compensation at the time of termination. \n",
       "<mark class=\"entity\" style=\"background: #e4e7d2; padding: 0.45em 0.6em; margin: 0 0.25em; line-height: 1; border-radius: 0.35em; box-decoration-break: clone; -webkit-box-decoration-break: clone\">\n",
       "    4\n",
       "    <span style=\"font-size: 0.8em; font-weight: bold; line-height: 1; border-radius: 0.35em; text-transform: uppercase; vertical-align: middle; margin-left: 0.5rem\">CARDINAL</span>\n",
       "</mark>\n",
       ". Compensation. As compensation to the Employee for his services hereunder, the Company shall pay to \n",
       "<mark class=\"entity\" style=\"background: #7aecec; padding: 0.45em 0.6em; margin: 0 0.25em; line-height: 1; border-radius: 0.35em; box-decoration-break: clone; -webkit-box-decoration-break: clone\">\n",
       "    the Employee $\n",
       "    <span style=\"font-size: 0.8em; font-weight: bold; line-height: 1; border-radius: 0.35em; text-transform: uppercase; vertical-align: middle; margin-left: 0.5rem\">ORG</span>\n",
       "</mark>\n",
       "\n",
       "<mark class=\"entity\" style=\"background: #e4e7d2; padding: 0.45em 0.6em; margin: 0 0.25em; line-height: 1; border-radius: 0.35em; box-decoration-break: clone; -webkit-box-decoration-break: clone\">\n",
       "    225,000\n",
       "    <span style=\"font-size: 0.8em; font-weight: bold; line-height: 1; border-radius: 0.35em; text-transform: uppercase; vertical-align: middle; margin-left: 0.5rem\">MONEY</span>\n",
       "</mark>\n",
       " for \n",
       "<mark class=\"entity\" style=\"background: #bfe1d9; padding: 0.45em 0.6em; margin: 0 0.25em; line-height: 1; border-radius: 0.35em; box-decoration-break: clone; -webkit-box-decoration-break: clone\">\n",
       "    the first year of the Term\n",
       "    <span style=\"font-size: 0.8em; font-weight: bold; line-height: 1; border-radius: 0.35em; text-transform: uppercase; vertical-align: middle; margin-left: 0.5rem\">DATE</span>\n",
       "</mark>\n",
       " and \n",
       "<mark class=\"entity\" style=\"background: #e4e7d2; padding: 0.45em 0.6em; margin: 0 0.25em; line-height: 1; border-radius: 0.35em; box-decoration-break: clone; -webkit-box-decoration-break: clone\">\n",
       "    no less than $240,000\n",
       "    <span style=\"font-size: 0.8em; font-weight: bold; line-height: 1; border-radius: 0.35em; text-transform: uppercase; vertical-align: middle; margin-left: 0.5rem\">MONEY</span>\n",
       "</mark>\n",
       " for \n",
       "<mark class=\"entity\" style=\"background: #bfe1d9; padding: 0.45em 0.6em; margin: 0 0.25em; line-height: 1; border-radius: 0.35em; box-decoration-break: clone; -webkit-box-decoration-break: clone\">\n",
       "    the second year\n",
       "    <span style=\"font-size: 0.8em; font-weight: bold; line-height: 1; border-radius: 0.35em; text-transform: uppercase; vertical-align: middle; margin-left: 0.5rem\">DATE</span>\n",
       "</mark>\n",
       ", payable in accordance with the \n",
       "<mark class=\"entity\" style=\"background: #7aecec; padding: 0.45em 0.6em; margin: 0 0.25em; line-height: 1; border-radius: 0.35em; box-decoration-break: clone; -webkit-box-decoration-break: clone\">\n",
       "    Company\n",
       "    <span style=\"font-size: 0.8em; font-weight: bold; line-height: 1; border-radius: 0.35em; text-transform: uppercase; vertical-align: middle; margin-left: 0.5rem\">ORG</span>\n",
       "</mark>\n",
       "'s payroll practices and procedures in effect. The Company shall pay executive a car allowance of $\n",
       "<mark class=\"entity\" style=\"background: #e4e7d2; padding: 0.45em 0.6em; margin: 0 0.25em; line-height: 1; border-radius: 0.35em; box-decoration-break: clone; -webkit-box-decoration-break: clone\">\n",
       "    1,500\n",
       "    <span style=\"font-size: 0.8em; font-weight: bold; line-height: 1; border-radius: 0.35em; text-transform: uppercase; vertical-align: middle; margin-left: 0.5rem\">MONEY</span>\n",
       "</mark>\n",
       " per month for the term of this Agreement. The executive shall be eligible for a bonus as defined in paragraph \n",
       "<mark class=\"entity\" style=\"background: #e4e7d2; padding: 0.45em 0.6em; margin: 0 0.25em; line-height: 1; border-radius: 0.35em; box-decoration-break: clone; -webkit-box-decoration-break: clone\">\n",
       "    6\n",
       "    <span style=\"font-size: 0.8em; font-weight: bold; line-height: 1; border-radius: 0.35em; text-transform: uppercase; vertical-align: middle; margin-left: 0.5rem\">CARDINAL</span>\n",
       "</mark>\n",
       ". \n",
       "<mark class=\"entity\" style=\"background: #e4e7d2; padding: 0.45em 0.6em; margin: 0 0.25em; line-height: 1; border-radius: 0.35em; box-decoration-break: clone; -webkit-box-decoration-break: clone\">\n",
       "    5\n",
       "    <span style=\"font-size: 0.8em; font-weight: bold; line-height: 1; border-radius: 0.35em; text-transform: uppercase; vertical-align: middle; margin-left: 0.5rem\">CARDINAL</span>\n",
       "</mark>\n",
       ". Fringe Benefits. Employee shall receive the benefits given to other executive officers of the Company including, but not limited to, major medical, dental, life insurance, pension including any \n",
       "<mark class=\"entity\" style=\"background: #e4e7d2; padding: 0.45em 0.6em; margin: 0 0.25em; line-height: 1; border-radius: 0.35em; box-decoration-break: clone; -webkit-box-decoration-break: clone\">\n",
       "    401(K\n",
       "    <span style=\"font-size: 0.8em; font-weight: bold; line-height: 1; border-radius: 0.35em; text-transform: uppercase; vertical-align: middle; margin-left: 0.5rem\">CARDINAL</span>\n",
       "</mark>\n",
       ") or other profit sharing plan. Employee shall also be added as an insured under the \n",
       "<mark class=\"entity\" style=\"background: #7aecec; padding: 0.45em 0.6em; margin: 0 0.25em; line-height: 1; border-radius: 0.35em; box-decoration-break: clone; -webkit-box-decoration-break: clone\">\n",
       "    Company\n",
       "    <span style=\"font-size: 0.8em; font-weight: bold; line-height: 1; border-radius: 0.35em; text-transform: uppercase; vertical-align: middle; margin-left: 0.5rem\">ORG</span>\n",
       "</mark>\n",
       "'s officers and directors insurance and all other polices which pertain to officers of \n",
       "<mark class=\"entity\" style=\"background: #7aecec; padding: 0.45em 0.6em; margin: 0 0.25em; line-height: 1; border-radius: 0.35em; box-decoration-break: clone; -webkit-box-decoration-break: clone\">\n",
       "    the Company\n",
       "    <span style=\"font-size: 0.8em; font-weight: bold; line-height: 1; border-radius: 0.35em; text-transform: uppercase; vertical-align: middle; margin-left: 0.5rem\">ORG</span>\n",
       "</mark>\n",
       ". The Company shall pay for all expenses related to COBRA until such time as the executive is fully covered under Company's Plan. \n",
       "<mark class=\"entity\" style=\"background: #e4e7d2; padding: 0.45em 0.6em; margin: 0 0.25em; line-height: 1; border-radius: 0.35em; box-decoration-break: clone; -webkit-box-decoration-break: clone\">\n",
       "    6\n",
       "    <span style=\"font-size: 0.8em; font-weight: bold; line-height: 1; border-radius: 0.35em; text-transform: uppercase; vertical-align: middle; margin-left: 0.5rem\">CARDINAL</span>\n",
       "</mark>\n",
       ". \n",
       "<mark class=\"entity\" style=\"background: #ddd; padding: 0.45em 0.6em; margin: 0 0.25em; line-height: 1; border-radius: 0.35em; box-decoration-break: clone; -webkit-box-decoration-break: clone\">\n",
       "    Bonus\n",
       "    <span style=\"font-size: 0.8em; font-weight: bold; line-height: 1; border-radius: 0.35em; text-transform: uppercase; vertical-align: middle; margin-left: 0.5rem\">FAC</span>\n",
       "</mark>\n",
       ". The Employee shall be eligible to participate in the executive bonus program then in effect. He shall be eligible for a bonus of \n",
       "<mark class=\"entity\" style=\"background: #e4e7d2; padding: 0.45em 0.6em; margin: 0 0.25em; line-height: 1; border-radius: 0.35em; box-decoration-break: clone; -webkit-box-decoration-break: clone\">\n",
       "    up to 100%\n",
       "    <span style=\"font-size: 0.8em; font-weight: bold; line-height: 1; border-radius: 0.35em; text-transform: uppercase; vertical-align: middle; margin-left: 0.5rem\">PERCENT</span>\n",
       "</mark>\n",
       " of his salary to be superseded by the maximum amount available under the \n",
       "<mark class=\"entity\" style=\"background: #7aecec; padding: 0.45em 0.6em; margin: 0 0.25em; line-height: 1; border-radius: 0.35em; box-decoration-break: clone; -webkit-box-decoration-break: clone\">\n",
       "    Company\n",
       "    <span style=\"font-size: 0.8em; font-weight: bold; line-height: 1; border-radius: 0.35em; text-transform: uppercase; vertical-align: middle; margin-left: 0.5rem\">ORG</span>\n",
       "</mark>\n",
       "'s executive bonus plan, if established. \n",
       "<mark class=\"entity\" style=\"background: #e4e7d2; padding: 0.45em 0.6em; margin: 0 0.25em; line-height: 1; border-radius: 0.35em; box-decoration-break: clone; -webkit-box-decoration-break: clone\">\n",
       "    7\n",
       "    <span style=\"font-size: 0.8em; font-weight: bold; line-height: 1; border-radius: 0.35em; text-transform: uppercase; vertical-align: middle; margin-left: 0.5rem\">CARDINAL</span>\n",
       "</mark>\n",
       ". Options. The Employee shall be granted options to purchase \n",
       "<mark class=\"entity\" style=\"background: #e4e7d2; padding: 0.45em 0.6em; margin: 0 0.25em; line-height: 1; border-radius: 0.35em; box-decoration-break: clone; -webkit-box-decoration-break: clone\">\n",
       "    200,000\n",
       "    <span style=\"font-size: 0.8em; font-weight: bold; line-height: 1; border-radius: 0.35em; text-transform: uppercase; vertical-align: middle; margin-left: 0.5rem\">CARDINAL</span>\n",
       "</mark>\n",
       " shares of the \n",
       "<mark class=\"entity\" style=\"background: #7aecec; padding: 0.45em 0.6em; margin: 0 0.25em; line-height: 1; border-radius: 0.35em; box-decoration-break: clone; -webkit-box-decoration-break: clone\">\n",
       "    Company\n",
       "    <span style=\"font-size: 0.8em; font-weight: bold; line-height: 1; border-radius: 0.35em; text-transform: uppercase; vertical-align: middle; margin-left: 0.5rem\">ORG</span>\n",
       "</mark>\n",
       "'s stock at the price of the stock on or about \n",
       "<mark class=\"entity\" style=\"background: #ff9561; padding: 0.45em 0.6em; margin: 0 0.25em; line-height: 1; border-radius: 0.35em; box-decoration-break: clone; -webkit-box-decoration-break: clone\">\n",
       "    the Start Date\n",
       "    <span style=\"font-size: 0.8em; font-weight: bold; line-height: 1; border-radius: 0.35em; text-transform: uppercase; vertical-align: middle; margin-left: 0.5rem\">LOC</span>\n",
       "</mark>\n",
       ", which shall vest as follows \n",
       "<mark class=\"entity\" style=\"background: #e4e7d2; padding: 0.45em 0.6em; margin: 0 0.25em; line-height: 1; border-radius: 0.35em; box-decoration-break: clone; -webkit-box-decoration-break: clone\">\n",
       "    100,000\n",
       "    <span style=\"font-size: 0.8em; font-weight: bold; line-height: 1; border-radius: 0.35em; text-transform: uppercase; vertical-align: middle; margin-left: 0.5rem\">CARDINAL</span>\n",
       "</mark>\n",
       " on \n",
       "<mark class=\"entity\" style=\"background: #ff9561; padding: 0.45em 0.6em; margin: 0 0.25em; line-height: 1; border-radius: 0.35em; box-decoration-break: clone; -webkit-box-decoration-break: clone\">\n",
       "    the Start Date\n",
       "    <span style=\"font-size: 0.8em; font-weight: bold; line-height: 1; border-radius: 0.35em; text-transform: uppercase; vertical-align: middle; margin-left: 0.5rem\">LOC</span>\n",
       "</mark>\n",
       " and \n",
       "<mark class=\"entity\" style=\"background: #e4e7d2; padding: 0.45em 0.6em; margin: 0 0.25em; line-height: 1; border-radius: 0.35em; box-decoration-break: clone; -webkit-box-decoration-break: clone\">\n",
       "    100,000\n",
       "    <span style=\"font-size: 0.8em; font-weight: bold; line-height: 1; border-radius: 0.35em; text-transform: uppercase; vertical-align: middle; margin-left: 0.5rem\">CARDINAL</span>\n",
       "</mark>\n",
       " on \n",
       "<mark class=\"entity\" style=\"background: #bfe1d9; padding: 0.45em 0.6em; margin: 0 0.25em; line-height: 1; border-radius: 0.35em; box-decoration-break: clone; -webkit-box-decoration-break: clone\">\n",
       "    June 1, 2005\n",
       "    <span style=\"font-size: 0.8em; font-weight: bold; line-height: 1; border-radius: 0.35em; text-transform: uppercase; vertical-align: middle; margin-left: 0.5rem\">DATE</span>\n",
       "</mark>\n",
       ". \n",
       "<mark class=\"entity\" style=\"background: #e4e7d2; padding: 0.45em 0.6em; margin: 0 0.25em; line-height: 1; border-radius: 0.35em; box-decoration-break: clone; -webkit-box-decoration-break: clone\">\n",
       "    8\n",
       "    <span style=\"font-size: 0.8em; font-weight: bold; line-height: 1; border-radius: 0.35em; text-transform: uppercase; vertical-align: middle; margin-left: 0.5rem\">CARDINAL</span>\n",
       "</mark>\n",
       ". \n",
       "<mark class=\"entity\" style=\"background: #aa9cfc; padding: 0.45em 0.6em; margin: 0 0.25em; line-height: 1; border-radius: 0.35em; box-decoration-break: clone; -webkit-box-decoration-break: clone\">\n",
       "    Vacation\n",
       "    <span style=\"font-size: 0.8em; font-weight: bold; line-height: 1; border-radius: 0.35em; text-transform: uppercase; vertical-align: middle; margin-left: 0.5rem\">PERSON</span>\n",
       "</mark>\n",
       ". The Employee shall be entitled to \n",
       "<mark class=\"entity\" style=\"background: #bfe1d9; padding: 0.45em 0.6em; margin: 0 0.25em; line-height: 1; border-radius: 0.35em; box-decoration-break: clone; -webkit-box-decoration-break: clone\">\n",
       "    four weeks\n",
       "    <span style=\"font-size: 0.8em; font-weight: bold; line-height: 1; border-radius: 0.35em; text-transform: uppercase; vertical-align: middle; margin-left: 0.5rem\">DATE</span>\n",
       "</mark>\n",
       " of vacation per year of employment. The Employee shall use his vacation in the calendar \n",
       "<mark class=\"entity\" style=\"background: #bfe1d9; padding: 0.45em 0.6em; margin: 0 0.25em; line-height: 1; border-radius: 0.35em; box-decoration-break: clone; -webkit-box-decoration-break: clone\">\n",
       "    year\n",
       "    <span style=\"font-size: 0.8em; font-weight: bold; line-height: 1; border-radius: 0.35em; text-transform: uppercase; vertical-align: middle; margin-left: 0.5rem\">DATE</span>\n",
       "</mark>\n",
       " in which it is accrued. \n",
       "<mark class=\"entity\" style=\"background: #e4e7d2; padding: 0.45em 0.6em; margin: 0 0.25em; line-height: 1; border-radius: 0.35em; box-decoration-break: clone; -webkit-box-decoration-break: clone\">\n",
       "    9\n",
       "    <span style=\"font-size: 0.8em; font-weight: bold; line-height: 1; border-radius: 0.35em; text-transform: uppercase; vertical-align: middle; margin-left: 0.5rem\">CARDINAL</span>\n",
       "</mark>\n",
       ". Change of \n",
       "<mark class=\"entity\" style=\"background: #7aecec; padding: 0.45em 0.6em; margin: 0 0.25em; line-height: 1; border-radius: 0.35em; box-decoration-break: clone; -webkit-box-decoration-break: clone\">\n",
       "    Control\n",
       "    <span style=\"font-size: 0.8em; font-weight: bold; line-height: 1; border-radius: 0.35em; text-transform: uppercase; vertical-align: middle; margin-left: 0.5rem\">ORG</span>\n",
       "</mark>\n",
       ". In the event that there comes a time during the \n",
       "<mark class=\"entity\" style=\"background: #feca74; padding: 0.45em 0.6em; margin: 0 0.25em; line-height: 1; border-radius: 0.35em; box-decoration-break: clone; -webkit-box-decoration-break: clone\">\n",
       "    Term\n",
       "    <span style=\"font-size: 0.8em; font-weight: bold; line-height: 1; border-radius: 0.35em; text-transform: uppercase; vertical-align: middle; margin-left: 0.5rem\">GPE</span>\n",
       "</mark>\n",
       " hereof that \n",
       "<mark class=\"entity\" style=\"background: #aa9cfc; padding: 0.45em 0.6em; margin: 0 0.25em; line-height: 1; border-radius: 0.35em; box-decoration-break: clone; -webkit-box-decoration-break: clone\">\n",
       "    Neil Cole\n",
       "    <span style=\"font-size: 0.8em; font-weight: bold; line-height: 1; border-radius: 0.35em; text-transform: uppercase; vertical-align: middle; margin-left: 0.5rem\">PERSON</span>\n",
       "</mark>\n",
       " is not either (i) employed as an executive officer of the \n",
       "<mark class=\"entity\" style=\"background: #7aecec; padding: 0.45em 0.6em; margin: 0 0.25em; line-height: 1; border-radius: 0.35em; box-decoration-break: clone; -webkit-box-decoration-break: clone\">\n",
       "    Company\n",
       "    <span style=\"font-size: 0.8em; font-weight: bold; line-height: 1; border-radius: 0.35em; text-transform: uppercase; vertical-align: middle; margin-left: 0.5rem\">ORG</span>\n",
       "</mark>\n",
       " or; (ii) a member of \n",
       "<mark class=\"entity\" style=\"background: #7aecec; padding: 0.45em 0.6em; margin: 0 0.25em; line-height: 1; border-radius: 0.35em; box-decoration-break: clone; -webkit-box-decoration-break: clone\">\n",
       "    the Company's\n",
       "    <span style=\"font-size: 0.8em; font-weight: bold; line-height: 1; border-radius: 0.35em; text-transform: uppercase; vertical-align: middle; margin-left: 0.5rem\">ORG</span>\n",
       "</mark>\n",
       " \n",
       "<mark class=\"entity\" style=\"background: #7aecec; padding: 0.45em 0.6em; margin: 0 0.25em; line-height: 1; border-radius: 0.35em; box-decoration-break: clone; -webkit-box-decoration-break: clone\">\n",
       "    Board of Directors\n",
       "    <span style=\"font-size: 0.8em; font-weight: bold; line-height: 1; border-radius: 0.35em; text-transform: uppercase; vertical-align: middle; margin-left: 0.5rem\">ORG</span>\n",
       "</mark>\n",
       ", or (iii) a sale or merger of \n",
       "<mark class=\"entity\" style=\"background: #7aecec; padding: 0.45em 0.6em; margin: 0 0.25em; line-height: 1; border-radius: 0.35em; box-decoration-break: clone; -webkit-box-decoration-break: clone\">\n",
       "    the Company\n",
       "    <span style=\"font-size: 0.8em; font-weight: bold; line-height: 1; border-radius: 0.35em; text-transform: uppercase; vertical-align: middle; margin-left: 0.5rem\">ORG</span>\n",
       "</mark>\n",
       " with a non-affiliate, upon termination then the Employee shall be entitled to receive his current compensation through the remainder of the Term but \n",
       "<mark class=\"entity\" style=\"background: #e4e7d2; padding: 0.45em 0.6em; margin: 0 0.25em; line-height: 1; border-radius: 0.35em; box-decoration-break: clone; -webkit-box-decoration-break: clone\">\n",
       "    no less than one\n",
       "    <span style=\"font-size: 0.8em; font-weight: bold; line-height: 1; border-radius: 0.35em; text-transform: uppercase; vertical-align: middle; margin-left: 0.5rem\">CARDINAL</span>\n",
       "</mark>\n",
       " times the executive's annualized compensation at the time of termination. \n",
       "<mark class=\"entity\" style=\"background: #e4e7d2; padding: 0.45em 0.6em; margin: 0 0.25em; line-height: 1; border-radius: 0.35em; box-decoration-break: clone; -webkit-box-decoration-break: clone\">\n",
       "    10\n",
       "    <span style=\"font-size: 0.8em; font-weight: bold; line-height: 1; border-radius: 0.35em; text-transform: uppercase; vertical-align: middle; margin-left: 0.5rem\">CARDINAL</span>\n",
       "</mark>\n",
       ". Confidentiality. The Employee shall not divulge to anyone, either during or at any time after the Term, any information constituting a trade secret or other confidential information acquired by it concerning the Company, any subsidiary or other affiliate of the Company, except in the performance of his duties hereunder, including but not limited to its licensees, revenues, business systems and processes (\"Confidential Information\"). The Employee acknowledges that any Confidential Information is of great value to the Company, and upon the termination of its engagement the Employee shall redeliver to the Company all Confidential Information and other data in his possession. \n",
       "<mark class=\"entity\" style=\"background: #e4e7d2; padding: 0.45em 0.6em; margin: 0 0.25em; line-height: 1; border-radius: 0.35em; box-decoration-break: clone; -webkit-box-decoration-break: clone\">\n",
       "    12\n",
       "    <span style=\"font-size: 0.8em; font-weight: bold; line-height: 1; border-radius: 0.35em; text-transform: uppercase; vertical-align: middle; margin-left: 0.5rem\">CARDINAL</span>\n",
       "</mark>\n",
       ". Entire Agreement. This Agreement represents and expresses the entire understanding and agreement between the parties with respect to the subject matter hereof and may not be modified or terminated except by an agreement in writing signed by both of the parties hereto. \n",
       "<mark class=\"entity\" style=\"background: #e4e7d2; padding: 0.45em 0.6em; margin: 0 0.25em; line-height: 1; border-radius: 0.35em; box-decoration-break: clone; -webkit-box-decoration-break: clone\">\n",
       "    13\n",
       "    <span style=\"font-size: 0.8em; font-weight: bold; line-height: 1; border-radius: 0.35em; text-transform: uppercase; vertical-align: middle; margin-left: 0.5rem\">CARDINAL</span>\n",
       "</mark>\n",
       ". \n",
       "<mark class=\"entity\" style=\"background: #aa9cfc; padding: 0.45em 0.6em; margin: 0 0.25em; line-height: 1; border-radius: 0.35em; box-decoration-break: clone; -webkit-box-decoration-break: clone\">\n",
       "    Governing Law\n",
       "    <span style=\"font-size: 0.8em; font-weight: bold; line-height: 1; border-radius: 0.35em; text-transform: uppercase; vertical-align: middle; margin-left: 0.5rem\">PERSON</span>\n",
       "</mark>\n",
       "; Submissions to \n",
       "<mark class=\"entity\" style=\"background: #feca74; padding: 0.45em 0.6em; margin: 0 0.25em; line-height: 1; border-radius: 0.35em; box-decoration-break: clone; -webkit-box-decoration-break: clone\">\n",
       "    Jurisdiction\n",
       "    <span style=\"font-size: 0.8em; font-weight: bold; line-height: 1; border-radius: 0.35em; text-transform: uppercase; vertical-align: middle; margin-left: 0.5rem\">GPE</span>\n",
       "</mark>\n",
       ". This Agreement shall be deemed to be a contract made under the laws of \n",
       "<mark class=\"entity\" style=\"background: #7aecec; padding: 0.45em 0.6em; margin: 0 0.25em; line-height: 1; border-radius: 0.35em; box-decoration-break: clone; -webkit-box-decoration-break: clone\">\n",
       "    the State of New York\n",
       "    <span style=\"font-size: 0.8em; font-weight: bold; line-height: 1; border-radius: 0.35em; text-transform: uppercase; vertical-align: middle; margin-left: 0.5rem\">ORG</span>\n",
       "</mark>\n",
       " and for all purposes shall be construed in accordance with those laws. \n",
       "<mark class=\"entity\" style=\"background: #7aecec; padding: 0.45em 0.6em; margin: 0 0.25em; line-height: 1; border-radius: 0.35em; box-decoration-break: clone; -webkit-box-decoration-break: clone\">\n",
       "    The Company and Employee\n",
       "    <span style=\"font-size: 0.8em; font-weight: bold; line-height: 1; border-radius: 0.35em; text-transform: uppercase; vertical-align: middle; margin-left: 0.5rem\">ORG</span>\n",
       "</mark>\n",
       " unconditionally consent to submit to the exclusive jurisdiction of \n",
       "<mark class=\"entity\" style=\"background: #7aecec; padding: 0.45em 0.6em; margin: 0 0.25em; line-height: 1; border-radius: 0.35em; box-decoration-break: clone; -webkit-box-decoration-break: clone\">\n",
       "    the New York State Supreme Court\n",
       "    <span style=\"font-size: 0.8em; font-weight: bold; line-height: 1; border-radius: 0.35em; text-transform: uppercase; vertical-align: middle; margin-left: 0.5rem\">ORG</span>\n",
       "</mark>\n",
       ", County of \n",
       "<mark class=\"entity\" style=\"background: #feca74; padding: 0.45em 0.6em; margin: 0 0.25em; line-height: 1; border-radius: 0.35em; box-decoration-break: clone; -webkit-box-decoration-break: clone\">\n",
       "    New York\n",
       "    <span style=\"font-size: 0.8em; font-weight: bold; line-height: 1; border-radius: 0.35em; text-transform: uppercase; vertical-align: middle; margin-left: 0.5rem\">GPE</span>\n",
       "</mark>\n",
       " or \n",
       "<mark class=\"entity\" style=\"background: #7aecec; padding: 0.45em 0.6em; margin: 0 0.25em; line-height: 1; border-radius: 0.35em; box-decoration-break: clone; -webkit-box-decoration-break: clone\">\n",
       "    the United States District Court for Southern District\n",
       "    <span style=\"font-size: 0.8em; font-weight: bold; line-height: 1; border-radius: 0.35em; text-transform: uppercase; vertical-align: middle; margin-left: 0.5rem\">ORG</span>\n",
       "</mark>\n",
       " of \n",
       "<mark class=\"entity\" style=\"background: #feca74; padding: 0.45em 0.6em; margin: 0 0.25em; line-height: 1; border-radius: 0.35em; box-decoration-break: clone; -webkit-box-decoration-break: clone\">\n",
       "    New York\n",
       "    <span style=\"font-size: 0.8em; font-weight: bold; line-height: 1; border-radius: 0.35em; text-transform: uppercase; vertical-align: middle; margin-left: 0.5rem\">GPE</span>\n",
       "</mark>\n",
       " for any actions, suits or proceedings arising out of or relating to this letter and the transactions contemplated hereby (and agree not to commence any action, suit or proceeding relating thereto except in such courts), and further agree that service of any process, summons, notice or document by registered mail to the address set forth above shall be effective service of process for any action, suit or proceeding brought against the Company or the Employee, as the case may be, in any such court. <PAGE> IN WITNESS \n",
       "<mark class=\"entity\" style=\"background: #7aecec; padding: 0.45em 0.6em; margin: 0 0.25em; line-height: 1; border-radius: 0.35em; box-decoration-break: clone; -webkit-box-decoration-break: clone\">\n",
       "    WHEREOF\n",
       "    <span style=\"font-size: 0.8em; font-weight: bold; line-height: 1; border-radius: 0.35em; text-transform: uppercase; vertical-align: middle; margin-left: 0.5rem\">ORG</span>\n",
       "</mark>\n",
       ", the parties hereto have set their hands as of the date \n",
       "<mark class=\"entity\" style=\"background: #e4e7d2; padding: 0.45em 0.6em; margin: 0 0.25em; line-height: 1; border-radius: 0.35em; box-decoration-break: clone; -webkit-box-decoration-break: clone\">\n",
       "    first\n",
       "    <span style=\"font-size: 0.8em; font-weight: bold; line-height: 1; border-radius: 0.35em; text-transform: uppercase; vertical-align: middle; margin-left: 0.5rem\">ORDINAL</span>\n",
       "</mark>\n",
       " written above. CANDIE'S,\n",
       "<mark class=\"entity\" style=\"background: #7aecec; padding: 0.45em 0.6em; margin: 0 0.25em; line-height: 1; border-radius: 0.35em; box-decoration-break: clone; -webkit-box-decoration-break: clone\">\n",
       "    INC\n",
       "    <span style=\"font-size: 0.8em; font-weight: bold; line-height: 1; border-radius: 0.35em; text-transform: uppercase; vertical-align: middle; margin-left: 0.5rem\">ORG</span>\n",
       "</mark>\n",
       ". By: /s/\n",
       "<mark class=\"entity\" style=\"background: #aa9cfc; padding: 0.45em 0.6em; margin: 0 0.25em; line-height: 1; border-radius: 0.35em; box-decoration-break: clone; -webkit-box-decoration-break: clone\">\n",
       "    Neil Cole Name\n",
       "    <span style=\"font-size: 0.8em; font-weight: bold; line-height: 1; border-radius: 0.35em; text-transform: uppercase; vertical-align: middle; margin-left: 0.5rem\">PERSON</span>\n",
       "</mark>\n",
       ": \n",
       "<mark class=\"entity\" style=\"background: #aa9cfc; padding: 0.45em 0.6em; margin: 0 0.25em; line-height: 1; border-radius: 0.35em; box-decoration-break: clone; -webkit-box-decoration-break: clone\">\n",
       "    Neil Cole Title\n",
       "    <span style=\"font-size: 0.8em; font-weight: bold; line-height: 1; border-radius: 0.35em; text-transform: uppercase; vertical-align: middle; margin-left: 0.5rem\">PERSON</span>\n",
       "</mark>\n",
       ": President and CEO /s/\n",
       "<mark class=\"entity\" style=\"background: #aa9cfc; padding: 0.45em 0.6em; margin: 0 0.25em; line-height: 1; border-radius: 0.35em; box-decoration-break: clone; -webkit-box-decoration-break: clone\">\n",
       "    Warren\n",
       "    <span style=\"font-size: 0.8em; font-weight: bold; line-height: 1; border-radius: 0.35em; text-transform: uppercase; vertical-align: middle; margin-left: 0.5rem\">PERSON</span>\n",
       "</mark>\n",
       " Clamen Warren Clamen, Employee</div>"
      ],
      "text/plain": [
       "<IPython.core.display.HTML object>"
      ]
     },
     "metadata": {},
     "output_type": "display_data"
    }
   ],
   "source": [
    "### NOW using SPACY for NER\n",
    "\n",
    "from spacy import displacy\n",
    " \n",
    "doc = nlp(doc)\n",
    "displacy.render(doc, style='ent', jupyter=True)"
   ]
  },
  {
   "cell_type": "code",
   "execution_count": 309,
   "metadata": {},
   "outputs": [
    {
     "name": "stdout",
     "output_type": "stream",
     "text": [
      "Employment Agreement\n"
     ]
    }
   ],
   "source": [
    "### checking the document type\n",
    "\n",
    "amendment = ['Amendment to Employment Agreement','AMENDMENT', 'AMENDMENT TO EMPLOYMENT AGREEMENT']\n",
    "doc_type = \"Employment Agreement\"\n",
    "for sent in doc.sents:\n",
    "    for i in amendment:\n",
    "        if i in str(sent):\n",
    "            doc_type = \"AMENDMENT\"\n",
    "            break\n",
    "print (doc_type)"
   ]
  },
  {
   "cell_type": "code",
   "execution_count": 310,
   "metadata": {},
   "outputs": [
    {
     "name": "stdout",
     "output_type": "stream",
     "text": [
      "[('EMPLOYMENT AGREEMENT Agreement', 'PERSON'), ('February 14, 2005', 'DATE'), ('Candie', 'PERSON'), ('Inc.', 'GPE'), ('the \"Company\"', 'ORG'), ('Warren Clamen', 'PERSON'), ('Company', 'ORG'), ('Employee', 'ORG'), ('1', 'CARDINAL'), ('Duties', 'DATE'), ('Employee', 'ORG'), ('Company', 'ORG'), ('Company', 'ORG'), ('2', 'CARDINAL'), ('Company', 'ORG'), ('3', 'CARDINAL'), ('Employee', 'ORG'), ('March 9, 2005', 'DATE'), ('the \"Start Date\"', 'WORK_OF_ART'), ('two years', 'DATE'), ('Party', 'ORG'), ('30 days', 'DATE'), ('one', 'CARDINAL'), ('4', 'CARDINAL'), ('the Employee $', 'ORG'), ('225,000', 'MONEY'), ('the first year of the Term', 'DATE'), ('no less than $240,000', 'MONEY'), ('the second year', 'DATE'), ('Company', 'ORG'), ('1,500', 'MONEY'), ('6', 'CARDINAL'), ('5', 'CARDINAL'), ('401(K', 'CARDINAL'), ('Company', 'ORG'), ('the Company', 'ORG'), ('6', 'CARDINAL'), ('Bonus', 'FAC'), ('up to 100%', 'PERCENT'), ('Company', 'ORG'), ('7', 'CARDINAL'), ('200,000', 'CARDINAL'), ('Company', 'ORG'), ('the Start Date', 'LOC'), ('100,000', 'CARDINAL'), ('the Start Date', 'LOC'), ('100,000', 'CARDINAL'), ('June 1, 2005', 'DATE'), ('8', 'CARDINAL'), ('Vacation', 'PERSON'), ('four weeks', 'DATE'), ('year', 'DATE'), ('9', 'CARDINAL'), ('Control', 'ORG'), ('Term', 'GPE'), ('Neil Cole', 'PERSON'), ('Company', 'ORG'), (\"the Company's\", 'ORG'), ('Board of Directors', 'ORG'), ('the Company', 'ORG'), ('no less than one', 'CARDINAL'), ('10', 'CARDINAL'), ('12', 'CARDINAL'), ('13', 'CARDINAL'), ('Governing Law', 'PERSON'), ('Jurisdiction', 'GPE'), ('the State of New York', 'ORG'), ('The Company and Employee', 'ORG'), ('the New York State Supreme Court', 'ORG'), ('New York', 'GPE'), ('the United States District Court for Southern District', 'ORG'), ('New York', 'GPE'), ('WHEREOF', 'ORG'), ('first', 'ORDINAL'), ('INC', 'ORG'), ('Neil Cole Name', 'PERSON'), ('Neil Cole Title', 'PERSON'), ('Warren', 'PERSON')]\n"
     ]
    }
   ],
   "source": [
    "print([(X.text, X.label_) for X in doc.ents])"
   ]
  },
  {
   "cell_type": "code",
   "execution_count": 311,
   "metadata": {},
   "outputs": [
    {
     "name": "stdout",
     "output_type": "stream",
     "text": [
      "['the \"Company\"', 'Company', 'Employee', 'Party', 'the Employee $', 'the Company', 'Control', \"the Company's\", 'Board of Directors', 'the State of New York', 'The Company and Employee', 'the New York State Supreme Court', 'the United States District Court for Southern District', 'WHEREOF', 'INC'] \n",
      "\n",
      "['EMPLOYMENT AGREEMENT Agreement', 'Candie', 'Warren Clamen', 'Vacation', 'Neil Cole', 'Governing Law', 'Neil Cole Name', 'Neil Cole Title', 'Warren']\n"
     ]
    }
   ],
   "source": [
    "### recognizing ORGANIZATIONS and PERSONS by SPACY\n",
    "\n",
    "org= []\n",
    "for ent in doc.ents:\n",
    "    if ent.label_=='ORG':\n",
    "        if ent.text not in org:\n",
    "            org.append(ent.text)\n",
    "print (org,'\\n')\n",
    "\n",
    "per= []\n",
    "for ent in doc.ents:\n",
    "    if ent.label_=='PERSON':\n",
    "        if ent.text not in per:\n",
    "            per.append(ent.text)\n",
    "print (per)"
   ]
  },
  {
   "cell_type": "code",
   "execution_count": 312,
   "metadata": {},
   "outputs": [
    {
     "name": "stdout",
     "output_type": "stream",
     "text": [
      "['candie', 'warren clamen', 'vacation', 'neil cole', 'governing law', 'neil cole name', 'neil cole title', 'warren']\n"
     ]
    }
   ],
   "source": [
    "per = [x.lower() for x in per]\n",
    "for i in per:\n",
    "    if i.startswith('emp'):\n",
    "        per.remove(i)\n",
    "print (per)"
   ]
  },
  {
   "cell_type": "code",
   "execution_count": 313,
   "metadata": {},
   "outputs": [
    {
     "name": "stdout",
     "output_type": "stream",
     "text": [
      "['warren clamen', 'neil cole', 'neil cole title']\n"
     ]
    }
   ],
   "source": [
    "### finding the common PERSONS recognized by both NLTK and SPACY\n",
    "lst3 = [value for value in per if value in per_nltk] \n",
    "print(lst3)"
   ]
  },
  {
   "cell_type": "code",
   "execution_count": 290,
   "metadata": {},
   "outputs": [
    {
     "name": "stdout",
     "output_type": "stream",
     "text": [
      "WARREN CLAMEN\n"
     ]
    }
   ],
   "source": [
    "### Name of the employee\n",
    "employee = lst3[0]\n",
    "employee = employee.upper()\n",
    "print (employee)"
   ]
  },
  {
   "cell_type": "code",
   "execution_count": 291,
   "metadata": {},
   "outputs": [
    {
     "data": {
      "text/plain": [
       "'NEIL COLE TITLE'"
      ]
     },
     "execution_count": 291,
     "metadata": {},
     "output_type": "execute_result"
    }
   ],
   "source": [
    "### Finding the employer name.\n",
    "\n",
    "employee_first = employee.lower().split()[0]\n",
    "#employee_second = employee.lower().split()[1]\n",
    "\n",
    "#for i in lst3:\n",
    "#    if i.startswith(employee_first) or i.startswith(employee_second):\n",
    "#        lst3.remove(i)\n",
    "#print (lst3)\n",
    "#employer = lst3[-1]    ### We take -1 because the letter always end with the signature of the employer, so there is good chance of recognizing the employer name at the end.\n",
    "#employer = employer.upper()\n",
    "employer = per_nltk[-1].upper()\n",
    "employer"
   ]
  },
  {
   "cell_type": "code",
   "execution_count": 292,
   "metadata": {},
   "outputs": [
    {
     "name": "stdout",
     "output_type": "stream",
     "text": [
      "['the \"company\"', 'company', 'party', 'the employee $', 'the company', 'control', \"the company's\", 'board of directors', 'the state of new york', 'the company and employee', 'the new york state supreme court', 'the united states district court for southern district', 'whereof', 'inc']\n"
     ]
    }
   ],
   "source": [
    "org = [x.lower() for x in org]\n",
    "for i in org:\n",
    "    if i.startswith('emp') or i.startswith('agr'):\n",
    "        org.remove(i)\n",
    "\n",
    "print(org)"
   ]
  },
  {
   "cell_type": "code",
   "execution_count": 293,
   "metadata": {},
   "outputs": [
    {
     "name": "stdout",
     "output_type": "stream",
     "text": [
      "['company', 'control', 'inc']\n"
     ]
    }
   ],
   "source": [
    "### Finding the common organizations recognized by both NLTK and Spacy.\n",
    "\n",
    "org = [value for value in org if value in org_nltk]\n",
    "print (org)"
   ]
  },
  {
   "cell_type": "code",
   "execution_count": 294,
   "metadata": {},
   "outputs": [
    {
     "name": "stdout",
     "output_type": "stream",
     "text": [
      "Chief Financial Officer, Vice President, \n"
     ]
    }
   ],
   "source": [
    "### Finding the job profile of the employee being hired.\n",
    "roles = ['Director of Operations', 'President and Chief Executive Officer', 'Chief  Executive  Officer','Senior Vice President','Vice President', 'Chief Financial Officer','Chief Human Resources Officer','Chairman of the Board of Directors','Chief Supply Chain Officer','Chief Creative Officer','Chief Procurement Officer','Contract CFO','Senior Engineer','Co-Chief Investment Officer']\n",
    "role = ''\n",
    "for sent in doc.sents:\n",
    "    for i in roles:\n",
    "        if i in str(sent):\n",
    "            if i not in role:\n",
    "                role = i+ ', '+ role\n",
    "print (role)"
   ]
  },
  {
   "cell_type": "code",
   "execution_count": 295,
   "metadata": {},
   "outputs": [
    {
     "name": "stdout",
     "output_type": "stream",
     "text": [
      "$240,000\n"
     ]
    }
   ],
   "source": [
    "### Calculating the base salary per annum. We are taking the maximum here because yearly salary is always higher than monthly salary.\n",
    "sal_list = []\n",
    "for sent in doc.sents:\n",
    "    sent = str(sent).split()\n",
    "    for ind in sent:\n",
    "        if \"$\" in ind:\n",
    "            sal_list.append(ind)\n",
    "\n",
    "base_sal = max(sal_list)\n",
    "    \n",
    "print (base_sal)"
   ]
  },
  {
   "cell_type": "code",
   "execution_count": 296,
   "metadata": {},
   "outputs": [],
   "source": [
    "### Creating the pandas DataFrame with the data so obtained.\n",
    "data = ({'file':[doc_type],'Employer Name':[employer],'Employee Name':[employee], 'Role/Tile of the employee':[role], 'Base Salary(yearly)':[base_sal]})\n",
    "ner = pd.DataFrame(data)"
   ]
  },
  {
   "cell_type": "code",
   "execution_count": 297,
   "metadata": {},
   "outputs": [
    {
     "name": "stdout",
     "output_type": "stream",
     "text": [
      "  Base Salary(yearly)  Employee Name    Employer Name  \\\n",
      "0            $240,000  WARREN CLAMEN  NEIL COLE TITLE   \n",
      "\n",
      "                   Role/Tile of the employee                  file  \n",
      "0  Chief Financial Officer, Vice President,   Employment Agreement  \n"
     ]
    }
   ],
   "source": [
    "print (ner)"
   ]
  },
  {
   "cell_type": "code",
   "execution_count": 298,
   "metadata": {},
   "outputs": [],
   "source": [
    "### making the csv\n",
    "\n",
    "ner.to_csv(r'letter.csv')"
   ]
  },
  {
   "cell_type": "markdown",
   "metadata": {},
   "source": [
    "### FEATURE EXTRACTION- MD SAMEEM ALI"
   ]
  }
 ],
 "metadata": {
  "kernelspec": {
   "display_name": "Python 3",
   "language": "python",
   "name": "python3"
  },
  "language_info": {
   "codemirror_mode": {
    "name": "ipython",
    "version": 3
   },
   "file_extension": ".py",
   "mimetype": "text/x-python",
   "name": "python",
   "nbconvert_exporter": "python",
   "pygments_lexer": "ipython3",
   "version": "3.6.5"
  }
 },
 "nbformat": 4,
 "nbformat_minor": 2
}
